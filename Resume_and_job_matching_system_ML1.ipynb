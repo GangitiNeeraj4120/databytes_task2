{
 "cells": [
  {
   "cell_type": "code",
   "execution_count": 69,
   "id": "b841ced6-f560-4a1e-978b-7660152305cc",
   "metadata": {},
   "outputs": [
    {
     "name": "stdout",
     "output_type": "stream",
     "text": [
      "Requirement already satisfied: transformers in c:\\users\\neera\\anaconda3\\lib\\site-packages (4.55.0)\n",
      "Requirement already satisfied: filelock in c:\\users\\neera\\anaconda3\\lib\\site-packages (from transformers) (3.13.1)\n",
      "Requirement already satisfied: huggingface-hub<1.0,>=0.34.0 in c:\\users\\neera\\anaconda3\\lib\\site-packages (from transformers) (0.34.4)\n",
      "Requirement already satisfied: numpy>=1.17 in c:\\users\\neera\\anaconda3\\lib\\site-packages (from transformers) (1.26.4)\n",
      "Requirement already satisfied: packaging>=20.0 in c:\\users\\neera\\anaconda3\\lib\\site-packages (from transformers) (24.1)\n",
      "Requirement already satisfied: pyyaml>=5.1 in c:\\users\\neera\\anaconda3\\lib\\site-packages (from transformers) (6.0.1)\n",
      "Requirement already satisfied: regex!=2019.12.17 in c:\\users\\neera\\anaconda3\\lib\\site-packages (from transformers) (2024.9.11)\n",
      "Requirement already satisfied: requests in c:\\users\\neera\\anaconda3\\lib\\site-packages (from transformers) (2.32.3)\n",
      "Requirement already satisfied: tokenizers<0.22,>=0.21 in c:\\users\\neera\\anaconda3\\lib\\site-packages (from transformers) (0.21.4)\n",
      "Requirement already satisfied: safetensors>=0.4.3 in c:\\users\\neera\\anaconda3\\lib\\site-packages (from transformers) (0.6.2)\n",
      "Requirement already satisfied: tqdm>=4.27 in c:\\users\\neera\\anaconda3\\lib\\site-packages (from transformers) (4.66.5)\n",
      "Requirement already satisfied: fsspec>=2023.5.0 in c:\\users\\neera\\anaconda3\\lib\\site-packages (from huggingface-hub<1.0,>=0.34.0->transformers) (2024.6.1)\n",
      "Requirement already satisfied: typing-extensions>=3.7.4.3 in c:\\users\\neera\\anaconda3\\lib\\site-packages (from huggingface-hub<1.0,>=0.34.0->transformers) (4.11.0)\n",
      "Requirement already satisfied: colorama in c:\\users\\neera\\anaconda3\\lib\\site-packages (from tqdm>=4.27->transformers) (0.4.6)\n",
      "Requirement already satisfied: charset-normalizer<4,>=2 in c:\\users\\neera\\anaconda3\\lib\\site-packages (from requests->transformers) (3.3.2)\n",
      "Requirement already satisfied: idna<4,>=2.5 in c:\\users\\neera\\anaconda3\\lib\\site-packages (from requests->transformers) (3.7)\n",
      "Requirement already satisfied: urllib3<3,>=1.21.1 in c:\\users\\neera\\anaconda3\\lib\\site-packages (from requests->transformers) (2.2.3)\n",
      "Requirement already satisfied: certifi>=2017.4.17 in c:\\users\\neera\\anaconda3\\lib\\site-packages (from requests->transformers) (2025.1.31)\n"
     ]
    }
   ],
   "source": [
    "!pip install transformers"
   ]
  },
  {
   "cell_type": "code",
   "execution_count": 26,
   "id": "4dad7acb-0a14-45ea-840e-19f7be794bf2",
   "metadata": {},
   "outputs": [],
   "source": [
    "import pandas as pd\n",
    "import string\n",
    "import nltk\n",
    "from nltk.corpus import stopwords\n",
    "from nltk.tokenize import word_tokenize\n",
    "from nltk.stem import WordNetLemmatizer\n",
    "from sklearn.feature_extraction.text import TfidfVectorizer\n",
    "from sklearn.linear_model import LogisticRegression\n",
    "from sklearn.ensemble import RandomForestClassifier\n",
    "from sklearn.svm import SVC\n",
    "from sklearn.model_selection import train_test_split\n",
    "from sklearn.metrics.pairwise import cosine_similarity\n",
    "from sklearn.metrics import classification_report, accuracy_score"
   ]
  },
  {
   "cell_type": "code",
   "execution_count": 27,
   "id": "fb260fb6-339b-4a85-898a-b3f1530909db",
   "metadata": {},
   "outputs": [
    {
     "name": "stderr",
     "output_type": "stream",
     "text": [
      "[nltk_data] Downloading package punkt_tab to\n",
      "[nltk_data]     C:\\Users\\neera\\AppData\\Roaming\\nltk_data...\n",
      "[nltk_data]   Package punkt_tab is already up-to-date!\n",
      "[nltk_data] Downloading package stopwords to\n",
      "[nltk_data]     C:\\Users\\neera\\AppData\\Roaming\\nltk_data...\n",
      "[nltk_data]   Package stopwords is already up-to-date!\n",
      "[nltk_data] Downloading package wordnet to\n",
      "[nltk_data]     C:\\Users\\neera\\AppData\\Roaming\\nltk_data...\n",
      "[nltk_data]   Package wordnet is already up-to-date!\n"
     ]
    },
    {
     "data": {
      "text/plain": [
       "True"
      ]
     },
     "execution_count": 27,
     "metadata": {},
     "output_type": "execute_result"
    }
   ],
   "source": [
    "nltk.download('punkt_tab')\n",
    "nltk.download('stopwords')\n",
    "nltk.download('wordnet')"
   ]
  },
  {
   "cell_type": "code",
   "execution_count": 28,
   "id": "b53fe388-6a88-497d-8c02-355f17e2abc2",
   "metadata": {},
   "outputs": [
    {
     "name": "stdout",
     "output_type": "stream",
     "text": [
      "<class 'pandas.core.frame.DataFrame'>\n",
      "RangeIndex: 10000 entries, 0 to 9999\n",
      "Data columns (total 9 columns):\n",
      " #   Column              Non-Null Count  Dtype \n",
      "---  ------              --------------  ----- \n",
      " 0   Job Applicant Name  10000 non-null  object\n",
      " 1   Age                 10000 non-null  int64 \n",
      " 2   Gender              10000 non-null  object\n",
      " 3   Race                10000 non-null  object\n",
      " 4   Ethnicity           10000 non-null  object\n",
      " 5   Resume              10000 non-null  object\n",
      " 6   Job Roles           10000 non-null  object\n",
      " 7   Job Description     10000 non-null  object\n",
      " 8   Best Match          10000 non-null  int64 \n",
      "dtypes: int64(2), object(7)\n",
      "memory usage: 703.3+ KB\n"
     ]
    }
   ],
   "source": [
    "df = pd.read_csv(r\"C:\\ML\\db\\archive_job\\job_applicant_dataset.csv\")\n",
    "df.info()"
   ]
  },
  {
   "cell_type": "code",
   "execution_count": 29,
   "id": "8b2afb1a-c51d-47a0-a21f-f39f9e691a32",
   "metadata": {},
   "outputs": [
    {
     "data": {
      "text/html": [
       "<div>\n",
       "<style scoped>\n",
       "    .dataframe tbody tr th:only-of-type {\n",
       "        vertical-align: middle;\n",
       "    }\n",
       "\n",
       "    .dataframe tbody tr th {\n",
       "        vertical-align: top;\n",
       "    }\n",
       "\n",
       "    .dataframe thead th {\n",
       "        text-align: right;\n",
       "    }\n",
       "</style>\n",
       "<table border=\"1\" class=\"dataframe\">\n",
       "  <thead>\n",
       "    <tr style=\"text-align: right;\">\n",
       "      <th></th>\n",
       "      <th>Job Applicant Name</th>\n",
       "      <th>Age</th>\n",
       "      <th>Gender</th>\n",
       "      <th>Race</th>\n",
       "      <th>Ethnicity</th>\n",
       "      <th>Resume</th>\n",
       "      <th>Job Roles</th>\n",
       "      <th>Job Description</th>\n",
       "      <th>Best Match</th>\n",
       "    </tr>\n",
       "  </thead>\n",
       "  <tbody>\n",
       "    <tr>\n",
       "      <th>0</th>\n",
       "      <td>Daisuke Mori</td>\n",
       "      <td>29</td>\n",
       "      <td>Male</td>\n",
       "      <td>Mongoloid/Asian</td>\n",
       "      <td>Vietnamese</td>\n",
       "      <td>Proficient in Injury Prevention, Motivation, N...</td>\n",
       "      <td>Fitness Coach</td>\n",
       "      <td>A Fitness Coach is responsible for helping cl...</td>\n",
       "      <td>0</td>\n",
       "    </tr>\n",
       "    <tr>\n",
       "      <th>1</th>\n",
       "      <td>Taichi Shimizu</td>\n",
       "      <td>31</td>\n",
       "      <td>Male</td>\n",
       "      <td>Mongoloid/Asian</td>\n",
       "      <td>Filipino</td>\n",
       "      <td>Proficient in Healthcare, Pharmacology, Medica...</td>\n",
       "      <td>Physician</td>\n",
       "      <td>Diagnose and treat illnesses, prescribe medica...</td>\n",
       "      <td>0</td>\n",
       "    </tr>\n",
       "    <tr>\n",
       "      <th>2</th>\n",
       "      <td>Sarah Martin</td>\n",
       "      <td>46</td>\n",
       "      <td>Female</td>\n",
       "      <td>White/Caucasian</td>\n",
       "      <td>Dutch</td>\n",
       "      <td>Proficient in Forecasting, Financial Modelling...</td>\n",
       "      <td>Financial Analyst</td>\n",
       "      <td>As a Financial Analyst, you will be responsibl...</td>\n",
       "      <td>0</td>\n",
       "    </tr>\n",
       "    <tr>\n",
       "      <th>3</th>\n",
       "      <td>Keith Hughes</td>\n",
       "      <td>43</td>\n",
       "      <td>Male</td>\n",
       "      <td>Negroid/Black</td>\n",
       "      <td>Caribbean</td>\n",
       "      <td>Proficient in Budgeting, Supply Chain Optimiza...</td>\n",
       "      <td>Supply Chain Manager</td>\n",
       "      <td>A Supply Chain Manager oversees the entire sup...</td>\n",
       "      <td>1</td>\n",
       "    </tr>\n",
       "    <tr>\n",
       "      <th>4</th>\n",
       "      <td>James Davis</td>\n",
       "      <td>49</td>\n",
       "      <td>Male</td>\n",
       "      <td>White/Caucasian</td>\n",
       "      <td>English</td>\n",
       "      <td>Proficient in Logistics, Negotiation, Procurem...</td>\n",
       "      <td>Supply Chain Manager</td>\n",
       "      <td>A Supply Chain Manager oversees the entire sup...</td>\n",
       "      <td>1</td>\n",
       "    </tr>\n",
       "  </tbody>\n",
       "</table>\n",
       "</div>"
      ],
      "text/plain": [
       "  Job Applicant Name  Age  Gender             Race   Ethnicity  \\\n",
       "0       Daisuke Mori   29    Male  Mongoloid/Asian  Vietnamese   \n",
       "1     Taichi Shimizu   31    Male  Mongoloid/Asian    Filipino   \n",
       "2       Sarah Martin   46  Female  White/Caucasian       Dutch   \n",
       "3       Keith Hughes   43    Male    Negroid/Black   Caribbean   \n",
       "4        James Davis   49    Male  White/Caucasian     English   \n",
       "\n",
       "                                              Resume             Job Roles  \\\n",
       "0  Proficient in Injury Prevention, Motivation, N...         Fitness Coach   \n",
       "1  Proficient in Healthcare, Pharmacology, Medica...             Physician   \n",
       "2  Proficient in Forecasting, Financial Modelling...     Financial Analyst   \n",
       "3  Proficient in Budgeting, Supply Chain Optimiza...  Supply Chain Manager   \n",
       "4  Proficient in Logistics, Negotiation, Procurem...  Supply Chain Manager   \n",
       "\n",
       "                                     Job Description  Best Match  \n",
       "0   A Fitness Coach is responsible for helping cl...           0  \n",
       "1  Diagnose and treat illnesses, prescribe medica...           0  \n",
       "2  As a Financial Analyst, you will be responsibl...           0  \n",
       "3  A Supply Chain Manager oversees the entire sup...           1  \n",
       "4  A Supply Chain Manager oversees the entire sup...           1  "
      ]
     },
     "execution_count": 29,
     "metadata": {},
     "output_type": "execute_result"
    }
   ],
   "source": [
    "df.head(5)"
   ]
  },
  {
   "cell_type": "code",
   "execution_count": 30,
   "id": "3241cd5d-5992-4f56-9ff6-149070bc01a5",
   "metadata": {},
   "outputs": [],
   "source": [
    "stop_words = set(stopwords.words('english'))\n",
    "lemmatizer = WordNetLemmatizer()"
   ]
  },
  {
   "cell_type": "code",
   "execution_count": 31,
   "id": "e6c99bd7-5e20-405c-9d93-846e2eec7057",
   "metadata": {},
   "outputs": [],
   "source": [
    "def preprocess(text):\n",
    "    text = text.lower()\n",
    "    text = text.translate(str.maketrans('', '', string.punctuation))\n",
    "    tokens = word_tokenize(text)\n",
    "    tokens = [lemmatizer.lemmatize(word) for word in tokens if word not in stop_words]\n",
    "    return ' '.join(tokens)"
   ]
  },
  {
   "cell_type": "code",
   "execution_count": 32,
   "id": "62d785fe-223c-494b-9e88-e3eb2fd6ec75",
   "metadata": {},
   "outputs": [],
   "source": [
    "# MAX_LEN = 200\n",
    "# def pad_sequence(seq):\n",
    "#     seq = seq.split() if isinstance(seq, str) else seq\n",
    "#     if len(seq) < MAX_LEN:\n",
    "#         return seq + [0]*(MAX_LEN - len(seq))\n",
    "#     else:\n",
    "#         return seq[:MAX_LEN]"
   ]
  },
  {
   "cell_type": "code",
   "execution_count": 33,
   "id": "e4913c70-e832-4ff7-af03-97edcabdb70f",
   "metadata": {},
   "outputs": [],
   "source": [
    "df['Resume_clean'] = df['Resume'].apply(preprocess)\n",
    "# df['Resume_clean'] = df['Resume_clean'].apply(pad_sequence)\n",
    "df['Job_Description_clean'] = df['Job Description'].apply(preprocess)\n",
    "# df['Job_Description_clean'] = df['Job_Description_clean'].apply(pad_sequence)"
   ]
  },
  {
   "cell_type": "code",
   "execution_count": 34,
   "id": "b18001f2-bb4f-464c-a806-914b18e7a24a",
   "metadata": {},
   "outputs": [],
   "source": [
    "df['combined_text'] = df['Resume_clean'] + \"[SEP]\" + df['Job_Description_clean']"
   ]
  },
  {
   "cell_type": "code",
   "execution_count": 35,
   "id": "675b26ff-4d35-4246-a8b3-8215bf0ed2ad",
   "metadata": {},
   "outputs": [],
   "source": [
    "# X = df['combined_text']\n",
    "# y = df['Best Match']\n",
    "\n",
    "# X_train, X_test, y_train, y_test = train_test_split(X, y, test_size=0.2, random_state=42)"
   ]
  },
  {
   "cell_type": "code",
   "execution_count": 86,
   "id": "c6d4c9c5-562c-4772-ad9f-fe6580628c79",
   "metadata": {},
   "outputs": [
    {
     "data": {
      "text/plain": [
       "9254    proficient problem solving marketing logistics...\n",
       "1561    proficient navigation safety protocol communic...\n",
       "1670    proficient client relation contract law negoti...\n",
       "6087    proficient problem solving scheduling blueprin...\n",
       "6669    proficient urban design community engagement u...\n",
       "                              ...                        \n",
       "5734    proficient patient care medical terminology ph...\n",
       "5191    proficient scheduling risk management contract...\n",
       "5390    proficient power bi data visualization python ...\n",
       "860     proficient social medium content creation writ...\n",
       "7270    proficient automation problem solving prototyp...\n",
       "Name: combined_text, Length: 8000, dtype: object"
      ]
     },
     "execution_count": 86,
     "metadata": {},
     "output_type": "execute_result"
    }
   ],
   "source": [
    "X_train"
   ]
  },
  {
   "cell_type": "code",
   "execution_count": 36,
   "id": "f77ddbae-188c-44fd-808a-3482bae35023",
   "metadata": {},
   "outputs": [],
   "source": [
    "vectorizer = TfidfVectorizer(max_features = 10000, ngram_range=(1, 2))\n",
    "X_train_vec = vectorizer.fit_transform(X_train)\n",
    "X_test_vec = vectorizer.transform(X_test)"
   ]
  },
  {
   "cell_type": "code",
   "execution_count": 51,
   "id": "8e5be6b3-d229-4e14-8b60-cfafa13c2480",
   "metadata": {},
   "outputs": [
    {
     "name": "stdout",
     "output_type": "stream",
     "text": [
      "Random Forest Accuracy: 0.5195\n",
      "              precision    recall  f1-score   support\n",
      "\n",
      "           0       0.53      0.53      0.53      1023\n",
      "           1       0.51      0.51      0.51       977\n",
      "\n",
      "    accuracy                           0.52      2000\n",
      "   macro avg       0.52      0.52      0.52      2000\n",
      "weighted avg       0.52      0.52      0.52      2000\n",
      "\n"
     ]
    }
   ],
   "source": [
    "rf = RandomForestClassifier(n_estimators=200)\n",
    "rf.fit(X_train_vec, y_train)\n",
    "rf_preds = rf.predict(X_test_vec)\n",
    "print(\"Random Forest Accuracy:\", accuracy_score(y_test, rf_preds))\n",
    "print(classification_report(y_test, rf_preds))"
   ]
  }
 ],
 "metadata": {
  "kernelspec": {
   "display_name": "Python [conda env:base] *",
   "language": "python",
   "name": "conda-base-py"
  },
  "language_info": {
   "codemirror_mode": {
    "name": "ipython",
    "version": 3
   },
   "file_extension": ".py",
   "mimetype": "text/x-python",
   "name": "python",
   "nbconvert_exporter": "python",
   "pygments_lexer": "ipython3",
   "version": "3.12.7"
  }
 },
 "nbformat": 4,
 "nbformat_minor": 5
}
