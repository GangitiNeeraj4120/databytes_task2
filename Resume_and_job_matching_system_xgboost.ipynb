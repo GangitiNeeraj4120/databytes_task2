{
 "cells": [
  {
   "cell_type": "code",
   "execution_count": 13,
   "id": "1a435c5c-ef3b-424f-8e0d-6636b8cd60c4",
   "metadata": {},
   "outputs": [
    {
     "name": "stdout",
     "output_type": "stream",
     "text": [
      "Requirement already satisfied: xgboost in c:\\users\\neera\\anaconda3\\lib\\site-packages (3.0.4)\n",
      "Requirement already satisfied: numpy in c:\\users\\neera\\anaconda3\\lib\\site-packages (from xgboost) (1.26.4)\n",
      "Requirement already satisfied: scipy in c:\\users\\neera\\anaconda3\\lib\\site-packages (from xgboost) (1.13.1)\n",
      "Note: you may need to restart the kernel to use updated packages.\n"
     ]
    }
   ],
   "source": [
    "pip install xgboost"
   ]
  },
  {
   "cell_type": "code",
   "execution_count": 15,
   "id": "4dad7acb-0a14-45ea-840e-19f7be794bf2",
   "metadata": {},
   "outputs": [],
   "source": [
    "import pandas as pd\n",
    "import re\n",
    "import nltk\n",
    "from nltk.stem import WordNetLemmatizer\n",
    "from sklearn.feature_extraction.text import TfidfVectorizer\n",
    "from sklearn.model_selection import train_test_split\n",
    "from xgboost import XGBClassifier\n",
    "from sklearn.metrics import accuracy_score, classification_report"
   ]
  },
  {
   "cell_type": "code",
   "execution_count": 17,
   "id": "fb260fb6-339b-4a85-898a-b3f1530909db",
   "metadata": {},
   "outputs": [
    {
     "name": "stderr",
     "output_type": "stream",
     "text": [
      "[nltk_data] Downloading package wordnet to\n",
      "[nltk_data]     C:\\Users\\neera\\AppData\\Roaming\\nltk_data...\n",
      "[nltk_data]   Package wordnet is already up-to-date!\n",
      "[nltk_data] Downloading package omw-1.4 to\n",
      "[nltk_data]     C:\\Users\\neera\\AppData\\Roaming\\nltk_data...\n"
     ]
    },
    {
     "data": {
      "text/plain": [
       "True"
      ]
     },
     "execution_count": 17,
     "metadata": {},
     "output_type": "execute_result"
    }
   ],
   "source": [
    "nltk.download('wordnet')\n",
    "nltk.download('omw-1.4')"
   ]
  },
  {
   "cell_type": "code",
   "execution_count": 18,
   "id": "b53fe388-6a88-497d-8c02-355f17e2abc2",
   "metadata": {},
   "outputs": [
    {
     "name": "stdout",
     "output_type": "stream",
     "text": [
      "<class 'pandas.core.frame.DataFrame'>\n",
      "RangeIndex: 10000 entries, 0 to 9999\n",
      "Data columns (total 9 columns):\n",
      " #   Column              Non-Null Count  Dtype \n",
      "---  ------              --------------  ----- \n",
      " 0   Job Applicant Name  10000 non-null  object\n",
      " 1   Age                 10000 non-null  int64 \n",
      " 2   Gender              10000 non-null  object\n",
      " 3   Race                10000 non-null  object\n",
      " 4   Ethnicity           10000 non-null  object\n",
      " 5   Resume              10000 non-null  object\n",
      " 6   Job Roles           10000 non-null  object\n",
      " 7   Job Description     10000 non-null  object\n",
      " 8   Best Match          10000 non-null  int64 \n",
      "dtypes: int64(2), object(7)\n",
      "memory usage: 703.3+ KB\n"
     ]
    }
   ],
   "source": [
    "df = pd.read_csv(r\"job_applicant_dataset.csv\")\n",
    "df.info()"
   ]
  },
  {
   "cell_type": "code",
   "execution_count": 19,
   "id": "8b2afb1a-c51d-47a0-a21f-f39f9e691a32",
   "metadata": {},
   "outputs": [
    {
     "data": {
      "text/html": [
       "<div>\n",
       "<style scoped>\n",
       "    .dataframe tbody tr th:only-of-type {\n",
       "        vertical-align: middle;\n",
       "    }\n",
       "\n",
       "    .dataframe tbody tr th {\n",
       "        vertical-align: top;\n",
       "    }\n",
       "\n",
       "    .dataframe thead th {\n",
       "        text-align: right;\n",
       "    }\n",
       "</style>\n",
       "<table border=\"1\" class=\"dataframe\">\n",
       "  <thead>\n",
       "    <tr style=\"text-align: right;\">\n",
       "      <th></th>\n",
       "      <th>Job Applicant Name</th>\n",
       "      <th>Age</th>\n",
       "      <th>Gender</th>\n",
       "      <th>Race</th>\n",
       "      <th>Ethnicity</th>\n",
       "      <th>Resume</th>\n",
       "      <th>Job Roles</th>\n",
       "      <th>Job Description</th>\n",
       "      <th>Best Match</th>\n",
       "    </tr>\n",
       "  </thead>\n",
       "  <tbody>\n",
       "    <tr>\n",
       "      <th>0</th>\n",
       "      <td>Daisuke Mori</td>\n",
       "      <td>29</td>\n",
       "      <td>Male</td>\n",
       "      <td>Mongoloid/Asian</td>\n",
       "      <td>Vietnamese</td>\n",
       "      <td>Proficient in Injury Prevention, Motivation, N...</td>\n",
       "      <td>Fitness Coach</td>\n",
       "      <td>A Fitness Coach is responsible for helping cl...</td>\n",
       "      <td>0</td>\n",
       "    </tr>\n",
       "    <tr>\n",
       "      <th>1</th>\n",
       "      <td>Taichi Shimizu</td>\n",
       "      <td>31</td>\n",
       "      <td>Male</td>\n",
       "      <td>Mongoloid/Asian</td>\n",
       "      <td>Filipino</td>\n",
       "      <td>Proficient in Healthcare, Pharmacology, Medica...</td>\n",
       "      <td>Physician</td>\n",
       "      <td>Diagnose and treat illnesses, prescribe medica...</td>\n",
       "      <td>0</td>\n",
       "    </tr>\n",
       "    <tr>\n",
       "      <th>2</th>\n",
       "      <td>Sarah Martin</td>\n",
       "      <td>46</td>\n",
       "      <td>Female</td>\n",
       "      <td>White/Caucasian</td>\n",
       "      <td>Dutch</td>\n",
       "      <td>Proficient in Forecasting, Financial Modelling...</td>\n",
       "      <td>Financial Analyst</td>\n",
       "      <td>As a Financial Analyst, you will be responsibl...</td>\n",
       "      <td>0</td>\n",
       "    </tr>\n",
       "    <tr>\n",
       "      <th>3</th>\n",
       "      <td>Keith Hughes</td>\n",
       "      <td>43</td>\n",
       "      <td>Male</td>\n",
       "      <td>Negroid/Black</td>\n",
       "      <td>Caribbean</td>\n",
       "      <td>Proficient in Budgeting, Supply Chain Optimiza...</td>\n",
       "      <td>Supply Chain Manager</td>\n",
       "      <td>A Supply Chain Manager oversees the entire sup...</td>\n",
       "      <td>1</td>\n",
       "    </tr>\n",
       "    <tr>\n",
       "      <th>4</th>\n",
       "      <td>James Davis</td>\n",
       "      <td>49</td>\n",
       "      <td>Male</td>\n",
       "      <td>White/Caucasian</td>\n",
       "      <td>English</td>\n",
       "      <td>Proficient in Logistics, Negotiation, Procurem...</td>\n",
       "      <td>Supply Chain Manager</td>\n",
       "      <td>A Supply Chain Manager oversees the entire sup...</td>\n",
       "      <td>1</td>\n",
       "    </tr>\n",
       "  </tbody>\n",
       "</table>\n",
       "</div>"
      ],
      "text/plain": [
       "  Job Applicant Name  Age  Gender             Race   Ethnicity  \\\n",
       "0       Daisuke Mori   29    Male  Mongoloid/Asian  Vietnamese   \n",
       "1     Taichi Shimizu   31    Male  Mongoloid/Asian    Filipino   \n",
       "2       Sarah Martin   46  Female  White/Caucasian       Dutch   \n",
       "3       Keith Hughes   43    Male    Negroid/Black   Caribbean   \n",
       "4        James Davis   49    Male  White/Caucasian     English   \n",
       "\n",
       "                                              Resume             Job Roles  \\\n",
       "0  Proficient in Injury Prevention, Motivation, N...         Fitness Coach   \n",
       "1  Proficient in Healthcare, Pharmacology, Medica...             Physician   \n",
       "2  Proficient in Forecasting, Financial Modelling...     Financial Analyst   \n",
       "3  Proficient in Budgeting, Supply Chain Optimiza...  Supply Chain Manager   \n",
       "4  Proficient in Logistics, Negotiation, Procurem...  Supply Chain Manager   \n",
       "\n",
       "                                     Job Description  Best Match  \n",
       "0   A Fitness Coach is responsible for helping cl...           0  \n",
       "1  Diagnose and treat illnesses, prescribe medica...           0  \n",
       "2  As a Financial Analyst, you will be responsibl...           0  \n",
       "3  A Supply Chain Manager oversees the entire sup...           1  \n",
       "4  A Supply Chain Manager oversees the entire sup...           1  "
      ]
     },
     "execution_count": 19,
     "metadata": {},
     "output_type": "execute_result"
    }
   ],
   "source": [
    "df.head(5)"
   ]
  },
  {
   "cell_type": "code",
   "execution_count": 23,
   "id": "e6c99bd7-5e20-405c-9d93-846e2eec7057",
   "metadata": {},
   "outputs": [],
   "source": [
    "# Text cleaning + lemmatization\n",
    "def clean_text(text):\n",
    "    if pd.isna(text):\n",
    "        return \"\"\n",
    "    text = re.sub(r'[^a-zA-Z0-9\\s]', '', text.lower()) \n",
    "    tokens = text.split()\n",
    "    lemmatizer = WordNetLemmatizer()\n",
    "    tokens = [lemmatizer.lemmatize(tok) for tok in tokens]\n",
    "    return \" \".join(tokens)"
   ]
  },
  {
   "cell_type": "code",
   "execution_count": 25,
   "id": "e4913c70-e832-4ff7-af03-97edcabdb70f",
   "metadata": {},
   "outputs": [],
   "source": [
    "# Combining features\n",
    "df['combined_text'] = (\n",
    "    \"[RACE] \" + df['Race'] + \" \" +\n",
    "    \"[GENDER] \" + df['Gender'] + \" \" +\n",
    "    \"[ETHNICITY] \" + df['Ethnicity'] + \" \" +\n",
    "    \"[RESUME] \" + df['Resume'] + \" \" +\n",
    "    \"[JOB] \" + df['Job Description']\n",
    ")"
   ]
  },
  {
   "cell_type": "code",
   "execution_count": 27,
   "id": "b18001f2-bb4f-464c-a806-914b18e7a24a",
   "metadata": {},
   "outputs": [],
   "source": [
    "if 'Best Match' not in df.columns:\n",
    "    raise ValueError(\"Target column 'Best Match' not found in dataset.\")\n",
    "y = df['Best Match']"
   ]
  },
  {
   "cell_type": "code",
   "execution_count": 29,
   "id": "f77ddbae-188c-44fd-808a-3482bae35023",
   "metadata": {},
   "outputs": [],
   "source": [
    "# TF-IDF vectorization\n",
    "vectorizer = TfidfVectorizer(max_features=50000)\n",
    "X = vectorizer.fit_transform(df['combined_text'])"
   ]
  },
  {
   "cell_type": "code",
   "execution_count": 31,
   "id": "4af3e4bc-dc44-47d7-97b7-a12abafe565b",
   "metadata": {},
   "outputs": [],
   "source": [
    "# Train-test split\n",
    "X_train, X_test, y_train, y_test = train_test_split(X, y, test_size=0.2, random_state=42)"
   ]
  },
  {
   "cell_type": "code",
   "execution_count": 33,
   "id": "8e5be6b3-d229-4e14-8b60-cfafa13c2480",
   "metadata": {},
   "outputs": [
    {
     "name": "stderr",
     "output_type": "stream",
     "text": [
      "C:\\Users\\neera\\anaconda3\\Lib\\site-packages\\xgboost\\training.py:183: UserWarning: [10:59:04] WARNING: C:\\actions-runner\\_work\\xgboost\\xgboost\\src\\learner.cc:738: \n",
      "Parameters: { \"use_label_encoder\" } are not used.\n",
      "\n",
      "  bst.update(dtrain, iteration=i, fobj=obj)\n"
     ]
    },
    {
     "name": "stdout",
     "output_type": "stream",
     "text": [
      "Accuracy: 0.884\n",
      "Classification Report:\n",
      "               precision    recall  f1-score   support\n",
      "\n",
      "           0       0.88      0.89      0.89      1023\n",
      "           1       0.89      0.88      0.88       977\n",
      "\n",
      "    accuracy                           0.88      2000\n",
      "   macro avg       0.88      0.88      0.88      2000\n",
      "weighted avg       0.88      0.88      0.88      2000\n",
      "\n"
     ]
    }
   ],
   "source": [
    "# XGBoost model\n",
    "model = XGBClassifier(\n",
    "    n_estimators=300,\n",
    "    learning_rate=0.1,\n",
    "    max_depth=6,\n",
    "    subsample=0.8,\n",
    "    colsample_bytree=0.8,\n",
    "    eval_metric='logloss',\n",
    "    use_label_encoder=False\n",
    ")\n",
    "\n",
    "# Train model\n",
    "model.fit(X_train, y_train)\n",
    "\n",
    "# Predictions\n",
    "y_pred = model.predict(X_test)\n",
    "\n",
    "# Evaluation\n",
    "print(\"Accuracy:\", accuracy_score(y_test, y_pred))\n",
    "print(\"Classification Report:\\n\", classification_report(y_test, y_pred))"
   ]
  }
 ],
 "metadata": {
  "kernelspec": {
   "display_name": "Python [conda env:base] *",
   "language": "python",
   "name": "conda-base-py"
  },
  "language_info": {
   "codemirror_mode": {
    "name": "ipython",
    "version": 3
   },
   "file_extension": ".py",
   "mimetype": "text/x-python",
   "name": "python",
   "nbconvert_exporter": "python",
   "pygments_lexer": "ipython3",
   "version": "3.12.7"
  }
 },
 "nbformat": 4,
 "nbformat_minor": 5
}
